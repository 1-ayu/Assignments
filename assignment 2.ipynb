{
 "cells": [
  {
   "cell_type": "code",
   "execution_count": null,
   "id": "04b44a66-4f9c-4743-b286-b903f0131c89",
   "metadata": {},
   "outputs": [],
   "source": [
    "1. We can comment a code using # operator.\n",
    "   for example # Ayush raj karan.\n",
    "    Different types of comments are-\n",
    "    a.Single line comment\n",
    "    b.multiline comment\n",
    "2. Variables are the symbollic name that is the reference to an object.\n",
    "   To declare a variable and assign the value here is the example\n",
    "#     a=21:\n",
    "#     L=[1,2,3,4,5,5]\n",
    "\n",
    "3.We can convert the datatype using the type conversion in python.\n",
    "4.To write and execute a python script from command line we first\n",
    "  open the text editor and then create a new file where we can \n",
    "  write the script and after the completion of the script we save \n",
    "  the file using the 'ipynb' extension and run the program.\n",
    "5.code to slice a list and obtain the sub list-\n",
    "  my_list=[1,2,3,4,5]\n",
    "  sub_list=[1:3]:\n",
    "    print(sub_list)\n",
    "6.A complex number is a number that comprises both a real part and immaginary\n",
    "  part. It is represented in python as - a+bj or 21+22j\n",
    "7.The correct way to declare a variable named age and assigned the value 25 to \n",
    " it is age=25\n",
    "    \n",
    "8. Price = 9.99\n",
    "   The datatype this variable belong to is float\n",
    "9. name =\"Ayush Raj Karan\""
   ]
  },
  {
   "cell_type": "code",
   "execution_count": 3,
   "id": "05809c60-0104-4886-af3a-a93979e73e89",
   "metadata": {},
   "outputs": [
    {
     "data": {
      "text/plain": [
       "'world!'"
      ]
     },
     "execution_count": 3,
     "metadata": {},
     "output_type": "execute_result"
    }
   ],
   "source": [
    "# 10.\n",
    "l=[\"Hello\",\"world!\"]\n",
    "l[1]\n",
    "    \n"
   ]
  },
  {
   "cell_type": "code",
   "execution_count": null,
   "id": "ae14b41c-6ad6-464d-a910-0c60970f1062",
   "metadata": {},
   "outputs": [],
   "source": [
    "# 11.\n",
    "is_student=True #assuming you are a student\n",
    "is_student=False #assuming you are not a student\n"
   ]
  }
 ],
 "metadata": {
  "kernelspec": {
   "display_name": "Python 3 (ipykernel)",
   "language": "python",
   "name": "python3"
  },
  "language_info": {
   "codemirror_mode": {
    "name": "ipython",
    "version": 3
   },
   "file_extension": ".py",
   "mimetype": "text/x-python",
   "name": "python",
   "nbconvert_exporter": "python",
   "pygments_lexer": "ipython3",
   "version": "3.10.8"
  }
 },
 "nbformat": 4,
 "nbformat_minor": 5
}
